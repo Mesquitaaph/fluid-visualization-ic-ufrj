{
  "cells": [
    {
      "cell_type": "code",
      "execution_count": 36,
      "metadata": {
        "colab": {
          "base_uri": "https://localhost:8080/"
        },
        "id": "0MVT3CITiG4M",
        "outputId": "634507ae-3ee8-452d-d4e0-c44b37f6a60d"
      },
      "outputs": [
        {
          "name": "stdout",
          "output_type": "stream",
          "text": [
            "Resultado correto\n",
            "\n"
          ]
        }
      ],
      "source": [
        "%%cu\n",
        "#include <stdio.h>\n",
        "#define N 1000\n",
        "\n",
        "// wrapper para checar erros nas chamadas de funções de CUDA\n",
        "#define CUDA_SAFE_CALL(call){ \\\n",
        "  cudaError_t err = call; \\\n",
        "  if(err != cudaSuccess){ \\\n",
        "    fprintf(stderr,\"Erro no arquivo '%s', linha %i: %s.\\n\", __FILE__, __LINE__, cudaGetErrorString(err)); \\\n",
        "    exit(EXIT_FAILURE); \\\n",
        "  }\\\n",
        "}\n",
        "\n",
        "// Kernel definition\n",
        "__global__ void VecAdd(float* A, float* B, float* C) {\n",
        "    int i = threadIdx.x;\n",
        "    C[i] = A[i] + B[i];\n",
        "}\n",
        "\n",
        "int main() {\n",
        "  float *h_a, *d_a;\n",
        "  float *h_b, *d_b;\n",
        "  float *h_c, *d_c;\n",
        "  unsigned long long n_bytes = N * sizeof(float);\n",
        "\n",
        "  // aloca memória na CPU(host)\n",
        "  h_a = (float*) malloc(n_bytes);\n",
        "  h_b = (float*) malloc(n_bytes);\n",
        "  h_c = (float*) malloc(n_bytes);\n",
        "  if(h_a == NULL || h_b == NULL || h_c == NULL) exit(EXIT_FAILURE);\n",
        "\n",
        "  // inicializa os vetores h_a e h_b\n",
        "  for(int i = 0; i < N; i++) {\n",
        "    h_a[i] = i+1;\n",
        "    h_b[i] = i+1;\n",
        "  }\n",
        "\n",
        "  // aloca espaço para os vetores na GPU\n",
        "  CUDA_SAFE_CALL(cudaMalloc((void**)&d_a, n_bytes));\n",
        "  CUDA_SAFE_CALL(cudaMalloc((void**)&d_b, n_bytes));\n",
        "  CUDA_SAFE_CALL(cudaMalloc((void**)&d_c, n_bytes));\n",
        "\n",
        "  // copia os vetores da CPU para a GPU (host para device)\n",
        "  CUDA_SAFE_CALL(cudaMemcpy(d_a, h_a, n_bytes, cudaMemcpyHostToDevice));\n",
        "  CUDA_SAFE_CALL(cudaMemcpy(d_b, h_b, n_bytes, cudaMemcpyHostToDevice));\n",
        "\n",
        "  // Dispara o kernel com N threads\n",
        "  VecAdd<<<1, N>>>(d_a, d_b, d_c);\n",
        "  CUDA_SAFE_CALL(cudaGetLastError());\n",
        "\n",
        "  // copia resultado da GPU para a CPU (device para host)\n",
        "  CUDA_SAFE_CALL(cudaMemcpy(h_c, d_c, n_bytes, cudaMemcpyDeviceToHost));\n",
        "\n",
        "  for(int i = 0; i < N; i++) {\n",
        "    float aux = h_a[i] + h_b[i];\n",
        "    if(aux != h_c[i]){\n",
        "      printf(\"Resultado incorreto no índice %d\\n\", i);\n",
        "      break;\n",
        "    }\n",
        "    if(i == N-1) printf(\"Resultado correto\\n\");\n",
        "  }\n",
        "\n",
        "  //libera memória na GPU\n",
        "  CUDA_SAFE_CALL(cudaFree(d_a));\n",
        "  CUDA_SAFE_CALL(cudaFree(d_b));\n",
        "  CUDA_SAFE_CALL(cudaFree(d_c));\n",
        "\n",
        "  return 0;\n",
        "}"
      ]
    }
  ],
  "metadata": {
    "accelerator": "GPU",
    "colab": {
      "collapsed_sections": [],
      "name": "hello_world.ipynb",
      "provenance": []
    },
    "kernelspec": {
      "display_name": "Python 3",
      "name": "python3"
    },
    "language_info": {
      "name": "python"
    }
  },
  "nbformat": 4,
  "nbformat_minor": 0
}
