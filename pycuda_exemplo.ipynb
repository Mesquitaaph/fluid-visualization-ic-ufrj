{
  "cells": [
    {
      "cell_type": "markdown",
      "metadata": {
        "id": "p2JZt1GL5D6W"
      },
      "source": [
        "# Introduction to CUDA and PyCUDA"
      ]
    },
    {
      "cell_type": "code",
      "execution_count": null,
      "metadata": {
        "id": "FA_YN7HlGRP5"
      },
      "outputs": [],
      "source": [
        "#!pip install pycuda # install cuda\n",
        "import pycuda.driver as cuda\n",
        "import pycuda.autoinit\n",
        "from pycuda.compiler import SourceModule"
      ]
    },
    {
      "cell_type": "code",
      "execution_count": null,
      "metadata": {
        "colab": {
          "base_uri": "https://localhost:8080/"
        },
        "id": "-g92eSBn5FlC",
        "outputId": "61b00676-c993-4b1c-e4c8-3c062328644b"
      },
      "outputs": [
        {
          "name": "stdout",
          "output_type": "stream",
          "text": [
            "True\n"
          ]
        }
      ],
      "source": [
        "import numpy\n",
        "N = 1000\n",
        "\n",
        "#// wrapper para checar erros nas chamadas de funções de CUDA\n",
        "##define CUDA_SAFE_CALL(call){ \\\n",
        "#  cudaError_t err = call; \\\n",
        "#  if(err != cudaSuccess){ \\\n",
        "#    fprintf(stderr,\"Erro no arquivo '%s', linha %i: %s.\\n\", __FILE__, __LINE__, cudaGetErrorString(err)); \\\n",
        "#    exit(EXIT_FAILURE); \\\n",
        "#  }\\\n",
        "#}\n",
        "\n",
        "# Definição do kernel\n",
        "mod = SourceModule(\"\"\"\n",
        "  __global__ void VecAdd(float *a, float *b, float *c)\n",
        "  {\n",
        "    int idx = threadIdx.x;\n",
        "    c[idx] = a[idx] + b[idx];\n",
        "  }\n",
        "  \"\"\")\n",
        "\n",
        "# inicializa os vetores a e b\n",
        "a = numpy.array([i for i in range(1, N+1)])\n",
        "b = numpy.array([i for i in range(1, N+1)])\n",
        "c = numpy.zeros(N)\n",
        "\n",
        "a = a.astype(numpy.float32)\n",
        "b = b.astype(numpy.float32)\n",
        "c = c.astype(numpy.float32)\n",
        "\n",
        "# aloca espaço para os vetores na GPU\n",
        "a_gpu = cuda.mem_alloc(a.nbytes)\n",
        "b_gpu = cuda.mem_alloc(b.nbytes)\n",
        "c_gpu = cuda.mem_alloc(c.nbytes)\n",
        "\n",
        "# copia os vetores da CPU para a GPU (host para device)\n",
        "cuda.memcpy_htod(a_gpu, a)\n",
        "cuda.memcpy_htod(b_gpu, b)\n",
        "cuda.memcpy_htod(c_gpu, c)\n",
        "\n",
        "# Dispara o kernel com N threads\n",
        "func = mod.get_function(\"VecAdd\")\n",
        "func(a_gpu, b_gpu, c_gpu, block=(N,1,1))\n",
        "\n",
        "# copia resultado da GPU para a CPU (device para host)\n",
        "c_result = numpy.empty_like(a)\n",
        "cuda.memcpy_dtoh(c_result, c_gpu)\n",
        "\n",
        "print(False not in (a+b == c_result))"
      ]
    }
  ],
  "metadata": {
    "accelerator": "GPU",
    "colab": {
      "collapsed_sections": [],
      "name": "pycuda exemplo",
      "provenance": []
    },
    "kernelspec": {
      "display_name": "Python 3",
      "language": "python",
      "name": "python3"
    },
    "language_info": {
      "codemirror_mode": {
        "name": "ipython",
        "version": 3
      },
      "file_extension": ".py",
      "mimetype": "text/x-python",
      "name": "python",
      "nbconvert_exporter": "python",
      "pygments_lexer": "ipython3",
      "version": "3.8.3"
    }
  },
  "nbformat": 4,
  "nbformat_minor": 0
}
